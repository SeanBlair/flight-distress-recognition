{
 "cells": [
  {
   "cell_type": "code",
   "execution_count": 48,
   "metadata": {},
   "outputs": [],
   "source": [
    "import json\n",
    "\n",
    "def compute_distress_for_flight():\n",
    "    \n",
    "    # Load distress conditions\n",
    "    with open('distress_conditions.json') as config_file:\n",
    "        config_file = json.load(config_file)\n",
    "\n",
    "    print('Type of config file contents is:', type(config_file))\n",
    "    print('length of file dictionary is:', len(config_file))\n",
    "    print('Type of distress_conditions is:', type(config_file['distress_conditions']))\n",
    "    print('length of distress_conditions is:', len(config_file['distress_conditions']))\n",
    "    print('type of first distress condition is:', type(config_file['distress_conditions'][0]))\n",
    "    print('name of first distress condition is:', config_file['distress_conditions'][0][\"distress_condition_name\"])\n",
    "\n",
    "\n"
   ]
  },
  {
   "cell_type": "code",
   "execution_count": 49,
   "metadata": {},
   "outputs": [
    {
     "output_type": "stream",
     "name": "stdout",
     "text": "Type of config file contents is: <class 'dict'>\nlength of file dictionary is: 1\nType of distress_conditions is: <class 'list'>\nlength of distress_conditions is: 2\ntype of first distress condition is: <class 'dict'>\nname of first distress condition is: Distress Conditions A\nwut wut wut!!!\nThe value of incrementing 4 by 1 is: 5\n"
    }
   ],
   "source": [
    "import wut\n",
    "\n",
    "compute_distress_for_flight()\n",
    "\n",
    "print('wut wut wut!!!')\n",
    "\n",
    "print('The value of incrementing 4 by 1 is:', wut.increment(4))"
   ]
  }
 ],
 "metadata": {
  "language_info": {
   "codemirror_mode": {
    "name": "ipython",
    "version": 3
   },
   "file_extension": ".py",
   "mimetype": "text/x-python",
   "name": "python",
   "nbconvert_exporter": "python",
   "pygments_lexer": "ipython3",
   "version": "3.8.3-final"
  },
  "orig_nbformat": 2,
  "kernelspec": {
   "name": "python38332bitff60dca309264faa8a0aee9e7d6554ba",
   "display_name": "Python 3.8.3 32-bit"
  }
 },
 "nbformat": 4,
 "nbformat_minor": 2
}